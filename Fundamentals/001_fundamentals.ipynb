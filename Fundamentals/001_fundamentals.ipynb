{
 "cells": [
  {
   "attachments": {},
   "cell_type": "markdown",
   "metadata": {},
   "source": [
    "# 📓 Machine Learning"
   ]
  },
  {
   "attachments": {},
   "cell_type": "markdown",
   "metadata": {},
   "source": [
    "In the real world, we are surrounded by humans who can learn everything from their experiences with their learning capability, and we have computers or machines which work on our instructions. <br>\n",
    "But can a machine also learn from experiences or past data like a human does? So here comes the role of Machine Learning.\n",
    "\n",
    "\n",
    "Machine Learning is said as a subset of artificial intelligence that is mainly concerned with the development of algorithms which allow a computer to learn from the data and past experiences on their own.<br>\n",
    " The term machine learning was first introduced by Arthur Samuel in 1959. We can define it in a summarized way as:\n",
    "\n",
    "Machine learning enables a machine to automatically learn from data, improve performance from experiences, and predict things without being explicitly programmed.\n",
    "With the help of sample historical data, which is known as training data, machine learning algorithms build a mathematical model that helps in making predictions or decisions without being explicitly programmed.<br> Machine learning brings computer science and statistics together for creating predictive models. Machine learning constructs or uses the algorithms that learn from historical data.<br>  \n",
    "The more we will provide the information, the higher will be the performance."
   ]
  },
  {
   "attachments": {},
   "cell_type": "markdown",
   "metadata": {},
   "source": [
    "### Classification of Machine Learning\n"
   ]
  },
  {
   "attachments": {},
   "cell_type": "markdown",
   "metadata": {},
   "source": [
    "At a broad level, machine learning can be classified into three types:\n",
    "\n",
    " 1️⃣ Supervised learning <br>\n",
    " 2️⃣ Unsupervised learning <br>\n",
    " 3️⃣ Reinforcement learning <br>"
   ]
  },
  {
   "attachments": {},
   "cell_type": "markdown",
   "metadata": {},
   "source": [
    "#### 1️⃣  Supervised learning\n",
    "\n",
    "> _ALREADY TAGGED DATA_ <br>\n",
    "> _FEATURES AND LABELS PRESENTS_\n",
    "\n",
    "Supervised learning is a type of machine learning method in which we provide sample labeled data to the machine learning system in order to train it, and on that basis, it predicts the output.\n",
    "\n",
    "The system creates a model using labeled data to understand the datasets and learn about each data, once the training and processing are done then we test the model by providing a sample data to check whether it is predicting the exact output or not.\n",
    "\n",
    "The goal of supervised learning is to map input data with the output data. <br>\n",
    "The supervised learning is based on supervision, and it is the same as when a student learns things in the supervision of the teacher. <br>\n",
    "The example of supervised learning is spam filtering.\n",
    "\n",
    "\n",
    "Supervised learning can be grouped further in two categories of algorithms:\n",
    "\n",
    "- Classification\n",
    "- Regression"
   ]
  },
  {
   "attachments": {},
   "cell_type": "markdown",
   "metadata": {},
   "source": [
    "#### 2️⃣ Unsupervised Learnin\n",
    "\n",
    "> _ALREADY TAGGED DATA_ <br>\n",
    "> _FEATURES AND LABELS PRESENTS_\n",
    "\n",
    "Unsupervised learning is a learning method in which a machine learns without any supervision.\n",
    "\n",
    "The training is provided to the machine with the set of data that has not been labeled, classified, or categorized, and the algorithm needs to act on that data without any supervision. <br>\n",
    "The goal of unsupervised learning is to restructure the input data into new features or a group of objects with similar patterns.\n",
    "\n",
    "In unsupervised learning, we don't have a predetermined result. The machine tries to find useful insights from the huge amount of data. <br>\n",
    "It can be further classifieds into two categories of algorithms:\n",
    "\n",
    "- Clustering\n",
    "- Association"
   ]
  },
  {
   "attachments": {},
   "cell_type": "markdown",
   "metadata": {},
   "source": [
    "#### 3️⃣ Reinforcement Learning\n",
    "\n",
    "Reinforcement learning is a feedback-based learning method, in which a learning agent gets a reward for each right action and gets a penalty for each wrong action. <br>\n",
    "The agent learns automatically with these feedbacks and improves its performance. In reinforcement learning, the agent interacts with the environment and explores it. <br>\n",
    "The goal of an agent is to get the most reward points, and hence, it improves its performance.\n",
    "The robotic dog, which automatically learns the movement of his arms, is an example of Reinforcement learning."
   ]
  }
 ],
 "metadata": {
  "kernelspec": {
   "display_name": "Python 3",
   "language": "python",
   "name": "python3"
  },
  "language_info": {
   "name": "python",
   "version": "3.11.0 (main, Oct 24 2022, 18:26:48) [MSC v.1933 64 bit (AMD64)]"
  },
  "orig_nbformat": 4,
  "vscode": {
   "interpreter": {
    "hash": "5238573367df39f7286bb46f9ff5f08f63a01a80960060ce41e3c79b190280fa"
   }
  }
 },
 "nbformat": 4,
 "nbformat_minor": 2
}
