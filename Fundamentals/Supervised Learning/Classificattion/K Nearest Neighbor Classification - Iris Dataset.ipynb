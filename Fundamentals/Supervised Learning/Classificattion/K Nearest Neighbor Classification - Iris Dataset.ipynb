{
 "cells": [
  {
   "cell_type": "code",
   "execution_count": 6,
   "metadata": {},
   "outputs": [],
   "source": [
    "# Load requirerd modules \n",
    "from sklearn import datasets\n",
    "from sklearn.neighbors import KNeighborsClassifier"
   ]
  },
  {
   "cell_type": "code",
   "execution_count": 7,
   "metadata": {},
   "outputs": [],
   "source": [
    "# load iris dataset\n",
    "iris = datasets.load_iris()\n",
    "\n",
    "# print descriptoins of the datasets\n",
    "# print(iris.DESCR)\n",
    "\n",
    "# print features and labels\n",
    "features = iris.data\n",
    "labels = iris.target\n",
    "# print(f\"Features (sepal length, sepal width, petal length, petal width) : {features[0]} \\n Labels(0.Iris-Setosa / 1.Iris-Versicolour / 2.Iris-Virginica) : {labels[0]}\")"
   ]
  },
  {
   "cell_type": "code",
   "execution_count": 8,
   "metadata": {},
   "outputs": [],
   "source": [
    "# print output for understanding\n",
    "def printOutput(predicted_ans):\n",
    "    if predicted_ans == 0:\n",
    "        print(f'Predicted answer is 0, which is \"Iris-Setosa\"')\n",
    "    elif predicted_ans == 1: \n",
    "        print(f'Predicted answer is 1, which is \"Iris-Versicolour\"')\n",
    "    else:\n",
    "        print(f'Predicted answer is 2, which is \"Iris-Virginica\"')"
   ]
  },
  {
   "cell_type": "code",
   "execution_count": 9,
   "metadata": {},
   "outputs": [
    {
     "name": "stdout",
     "output_type": "stream",
     "text": [
      "Predicted answer is 0, which is \"Iris-Setosa\"\n"
     ]
    }
   ],
   "source": [
    "# initializing k-nearest neighbors classifier \n",
    "clf = KNeighborsClassifier()\n",
    "clf.fit(features, labels)\n",
    "predict = clf.predict([[5.1, 3.5, 1.4, 0.2]])\n",
    "printOutput(predicted_ans=predict)"
   ]
  }
 ],
 "metadata": {
  "kernelspec": {
   "display_name": "Python 3",
   "language": "python",
   "name": "python3"
  },
  "language_info": {
   "codemirror_mode": {
    "name": "ipython",
    "version": 3
   },
   "file_extension": ".py",
   "mimetype": "text/x-python",
   "name": "python",
   "nbconvert_exporter": "python",
   "pygments_lexer": "ipython3",
   "version": "3.11.0"
  },
  "orig_nbformat": 4,
  "vscode": {
   "interpreter": {
    "hash": "5238573367df39f7286bb46f9ff5f08f63a01a80960060ce41e3c79b190280fa"
   }
  }
 },
 "nbformat": 4,
 "nbformat_minor": 2
}
