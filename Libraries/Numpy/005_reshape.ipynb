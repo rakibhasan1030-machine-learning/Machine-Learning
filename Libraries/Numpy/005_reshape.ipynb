{
 "cells": [
  {
   "attachments": {},
   "cell_type": "markdown",
   "metadata": {},
   "source": [
    "Array Reshape"
   ]
  },
  {
   "cell_type": "code",
   "execution_count": 1,
   "metadata": {},
   "outputs": [],
   "source": [
    "import numpy as np"
   ]
  },
  {
   "cell_type": "code",
   "execution_count": 9,
   "metadata": {},
   "outputs": [
    {
     "name": "stdout",
     "output_type": "stream",
     "text": [
      "Main array (2, 3) : \n",
      " [[7 8 3]\n",
      " [7 6 4]]\n",
      "\n",
      "After reshape (3, 2) : \n",
      " [[7 8 3]\n",
      " [7 6 4]]\n"
     ]
    }
   ],
   "source": [
    "# ----------------------------------------------------------------------------------------------\n",
    "# The numpy.reshape() function shapes an array without changing the data of the array.\n",
    "# ----------------------------------------------------------------------------------------------\n",
    "# Syntax:\n",
    "# numpy.reshape(array, shape, order = 'C')\n",
    "# ----------------------------------------------------------------------------------------------\n",
    "# Parameters : \n",
    "# array : [array_like]Input array\n",
    "# shape : [int or tuples of int] e.g. if we are arranging an array with 10 elements then shaping\n",
    "#         it like numpy.reshape(4, 8) is wrong; we can do numpy.reshape(2, 5) or (5, 2)\n",
    "# order  : [C-contiguous, F-contiguous, A-contiguous; optional]         \n",
    "#          C-contiguous order in memory(last index varies the fastest)\n",
    "#          C order means that operating row-rise on the array will be slightly quicker\n",
    "#          FORTRAN-contiguous order in memory (first index varies the fastest).\n",
    "#          F order means that column-wise operations will be faster. \n",
    "#          ‘A’ means to read / write the elements in Fortran-like index order if,\n",
    "#          array is Fortran contiguous in memory, C-like order otherwise\n",
    "# ----------------------------------------------------------------------------------------------\n",
    "# Return Type: \n",
    "# Array which is reshaped without changing the data.\n",
    "# ----------------------------------------------------------------------------------------------\n",
    "# Code : \n",
    "two_d_array = np.random.randint(1, 10, size=(2,3))  #1D array\n",
    "print(f\"Main array {two_d_array.shape} : \\n {two_d_array}\\n\") # array print\n",
    "reshaped_two_d_array = np.reshape(two_d_array, (3,2))\n",
    "print(f\"After reshape {reshaped_two_d_array.shape} : \\n {two_d_array}\") # array print"
   ]
  }
 ],
 "metadata": {
  "kernelspec": {
   "display_name": "Python 3",
   "language": "python",
   "name": "python3"
  },
  "language_info": {
   "codemirror_mode": {
    "name": "ipython",
    "version": 3
   },
   "file_extension": ".py",
   "mimetype": "text/x-python",
   "name": "python",
   "nbconvert_exporter": "python",
   "pygments_lexer": "ipython3",
   "version": "3.11.0"
  },
  "orig_nbformat": 4,
  "vscode": {
   "interpreter": {
    "hash": "5238573367df39f7286bb46f9ff5f08f63a01a80960060ce41e3c79b190280fa"
   }
  }
 },
 "nbformat": 4,
 "nbformat_minor": 2
}
