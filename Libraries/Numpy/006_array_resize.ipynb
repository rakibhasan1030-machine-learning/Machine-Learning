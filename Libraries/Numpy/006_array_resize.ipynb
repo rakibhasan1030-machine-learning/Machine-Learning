{
 "cells": [
  {
   "attachments": {},
   "cell_type": "markdown",
   "metadata": {},
   "source": [
    "Array Resize"
   ]
  },
  {
   "cell_type": "code",
   "execution_count": 1,
   "metadata": {},
   "outputs": [],
   "source": [
    "import numpy as np"
   ]
  },
  {
   "cell_type": "code",
   "execution_count": 5,
   "metadata": {},
   "outputs": [
    {
     "name": "stdout",
     "output_type": "stream",
     "text": [
      "Main array (2, 3) : \n",
      " [[3 7 9]\n",
      " [5 9 8]]\n",
      "\n",
      "After reshape (3, 3) : \n",
      " [[3 7 9]\n",
      " [5 9 8]\n",
      " [3 7 9]]\n"
     ]
    }
   ],
   "source": [
    "# ----------------------------------------------------------------------------------------------------------------\n",
    "# With the help of Numpy numpy.resize(), we can resize the size of an array. \n",
    "# Array can be of any shape but to resize it we just need the size i.e (2, 2), (2, 3) and many more. \n",
    "# During resizing numpy append repeate values of the array from first, if values at a particular place is missing.\n",
    "# ----------------------------------------------------------------------------------------------------------------\n",
    "# Parameters:\n",
    "# new_shape : [tuple of ints, or n ints] Shape of resized array\n",
    "# refcheck : [bool, optional] This parameter is used to check the reference counter. \n",
    "# By Default it is True.\n",
    "# ----------------------------------------------------------------------------------------------------------------\n",
    "# Returns: None\n",
    "# ----------------------------------------------------------------------------------------------------------------\n",
    "# Code : \n",
    "two_d_array = np.random.randint(1, 10, size=(2,3))  # 2D array\n",
    "print(f\"Main array {two_d_array.shape} : \\n {two_d_array}\\n\") # array print\n",
    "resized_two_d_array = np.resize(two_d_array, (3,3))\n",
    "print(f\"After reshape {resized_two_d_array.shape} : \\n {resized_two_d_array}\") # array print\n"
   ]
  }
 ],
 "metadata": {
  "kernelspec": {
   "display_name": "Python 3",
   "language": "python",
   "name": "python3"
  },
  "language_info": {
   "codemirror_mode": {
    "name": "ipython",
    "version": 3
   },
   "file_extension": ".py",
   "mimetype": "text/x-python",
   "name": "python",
   "nbconvert_exporter": "python",
   "pygments_lexer": "ipython3",
   "version": "3.11.0 (main, Oct 24 2022, 18:26:48) [MSC v.1933 64 bit (AMD64)]"
  },
  "orig_nbformat": 4,
  "vscode": {
   "interpreter": {
    "hash": "5238573367df39f7286bb46f9ff5f08f63a01a80960060ce41e3c79b190280fa"
   }
  }
 },
 "nbformat": 4,
 "nbformat_minor": 2
}
