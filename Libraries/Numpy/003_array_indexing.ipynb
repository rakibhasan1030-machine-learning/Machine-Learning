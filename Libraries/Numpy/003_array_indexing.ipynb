{
 "cells": [
  {
   "attachments": {},
   "cell_type": "markdown",
   "metadata": {},
   "source": [
    "Array Indexing"
   ]
  },
  {
   "cell_type": "code",
   "execution_count": 18,
   "metadata": {},
   "outputs": [],
   "source": [
    "import numpy as np"
   ]
  },
  {
   "cell_type": "code",
   "execution_count": 19,
   "metadata": {},
   "outputs": [
    {
     "name": "stdout",
     "output_type": "stream",
     "text": [
      "[1 2 3 4 5]\n",
      "1st element of 1D array is : 1\n"
     ]
    }
   ],
   "source": [
    "one_d_array = np.array([1,2,3,4,5])  #1D array\n",
    "print(one_d_array) # array print\n",
    "print(f\"1st element of 1D array is : {one_d_array[0]}\")"
   ]
  },
  {
   "cell_type": "code",
   "execution_count": 20,
   "metadata": {},
   "outputs": [
    {
     "name": "stdout",
     "output_type": "stream",
     "text": [
      "[[9 2]\n",
      " [5 6]]\n",
      "1st element of 2D array is : 9\n",
      "2nd element of 2D array is : 2\n"
     ]
    }
   ],
   "source": [
    "two_d_array = np.random.randint(1, 10, size=(2,2))  #1D array\n",
    "print(two_d_array) # array print\n",
    "print(f\"1st element of 2D array is : {two_d_array[0][0]}\")\n",
    "print(f\"2nd element of 2D array is : {two_d_array[0, 1]}\")"
   ]
  },
  {
   "cell_type": "code",
   "execution_count": 21,
   "metadata": {},
   "outputs": [
    {
     "name": "stdout",
     "output_type": "stream",
     "text": [
      "[[[8 3]\n",
      "  [5 6]]\n",
      "\n",
      " [[8 1]\n",
      "  [5 9]]]\n",
      "2nd element of 2nd position 3D array is : 1\n"
     ]
    }
   ],
   "source": [
    "three_d_array = np.random.randint(1, 10, size=(2,2,2))  #1D array\n",
    "print(three_d_array) # array print\n",
    "print(f\"2nd element of 2nd position 3D array is : {three_d_array[1][0][1]}\")"
   ]
  }
 ],
 "metadata": {
  "kernelspec": {
   "display_name": "Python 3",
   "language": "python",
   "name": "python3"
  },
  "language_info": {
   "codemirror_mode": {
    "name": "ipython",
    "version": 3
   },
   "file_extension": ".py",
   "mimetype": "text/x-python",
   "name": "python",
   "nbconvert_exporter": "python",
   "pygments_lexer": "ipython3",
   "version": "3.11.0"
  },
  "orig_nbformat": 4,
  "vscode": {
   "interpreter": {
    "hash": "5238573367df39f7286bb46f9ff5f08f63a01a80960060ce41e3c79b190280fa"
   }
  }
 },
 "nbformat": 4,
 "nbformat_minor": 2
}
