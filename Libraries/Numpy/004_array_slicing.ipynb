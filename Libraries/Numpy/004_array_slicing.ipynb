{
 "cells": [
  {
   "attachments": {},
   "cell_type": "markdown",
   "metadata": {},
   "source": [
    "Array Slicing"
   ]
  },
  {
   "cell_type": "code",
   "execution_count": 1,
   "metadata": {},
   "outputs": [],
   "source": [
    "import numpy as np"
   ]
  },
  {
   "cell_type": "code",
   "execution_count": 6,
   "metadata": {},
   "outputs": [
    {
     "name": "stdout",
     "output_type": "stream",
     "text": [
      "[1 2 3 4 5]\n",
      "Afetr slice first 3 item : [1 2 3]\n",
      "Afetr slice last 3 item : [3 4 5]\n"
     ]
    }
   ],
   "source": [
    "one_d_array = np.array([1,2,3,4,5])  # 1D array\n",
    "print(one_d_array) # array print\n",
    "print(f\"Afetr slice first 3 item : {one_d_array[:3]}\") # array print\n",
    "print(f\"Afetr slice last 3 item : {one_d_array[2:]}\") # array print\n"
   ]
  },
  {
   "cell_type": "code",
   "execution_count": 19,
   "metadata": {},
   "outputs": [
    {
     "name": "stdout",
     "output_type": "stream",
     "text": [
      "[[3 7 2]\n",
      " [3 7 7]\n",
      " [3 1 5]]\n",
      "After slice 4 right bottom item : \n",
      " [[7 7]\n",
      " [1 5]]\n"
     ]
    }
   ],
   "source": [
    "two_d_array = np.random.randint(1, 10, size=(3,3))  # 2D array\n",
    "print(two_d_array) # array print\n",
    "print(f\"After slice 4 right bottom item : \\n {two_d_array[1:, 1:]}\") # array print"
   ]
  }
 ],
 "metadata": {
  "kernelspec": {
   "display_name": "Python 3",
   "language": "python",
   "name": "python3"
  },
  "language_info": {
   "codemirror_mode": {
    "name": "ipython",
    "version": 3
   },
   "file_extension": ".py",
   "mimetype": "text/x-python",
   "name": "python",
   "nbconvert_exporter": "python",
   "pygments_lexer": "ipython3",
   "version": "3.11.0 (main, Oct 24 2022, 18:26:48) [MSC v.1933 64 bit (AMD64)]"
  },
  "orig_nbformat": 4,
  "vscode": {
   "interpreter": {
    "hash": "5238573367df39f7286bb46f9ff5f08f63a01a80960060ce41e3c79b190280fa"
   }
  }
 },
 "nbformat": 4,
 "nbformat_minor": 2
}
