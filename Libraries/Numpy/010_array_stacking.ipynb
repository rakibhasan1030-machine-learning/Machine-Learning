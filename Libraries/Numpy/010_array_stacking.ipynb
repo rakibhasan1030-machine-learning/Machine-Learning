{
 "cells": [
  {
   "attachments": {},
   "cell_type": "markdown",
   "metadata": {},
   "source": [
    "Array Stacking in Python"
   ]
  },
  {
   "cell_type": "code",
   "execution_count": 8,
   "metadata": {},
   "outputs": [],
   "source": [
    "import numpy as np"
   ]
  },
  {
   "attachments": {},
   "cell_type": "markdown",
   "metadata": {},
   "source": [
    "Horizontal Stacking"
   ]
  },
  {
   "cell_type": "code",
   "execution_count": 9,
   "metadata": {},
   "outputs": [
    {
     "name": "stdout",
     "output_type": "stream",
     "text": [
      "First arrray : \n",
      "[[6 7 8]\n",
      " [1 4 5]\n",
      " [6 1 8]]\n",
      "\n",
      "Second arrray : \n",
      "[[3 2 4]\n",
      " [1 5 7]\n",
      " [2 1 4]]\n",
      "\n",
      "\n",
      "First and Second hstacked : \n",
      "[[6 7 8 3 2 4]\n",
      " [1 4 5 1 5 7]\n",
      " [6 1 8 2 1 4]]\n",
      "\n",
      "First and Second column stacked : \n",
      "[[6 7 8 3 2 4]\n",
      " [1 4 5 1 5 7]\n",
      " [6 1 8 2 1 4]]\n",
      "\n",
      "First and Second concatenate : \n",
      "[[6 7 8 3 2 4]\n",
      " [1 4 5 1 5 7]\n",
      " [6 1 8 2 1 4]]\n"
     ]
    }
   ],
   "source": [
    "#------------------------------------------------------------------------------------------------------------------------------\n",
    "# numpy.hstack() function is used to stack the sequence of input arrays horizontally (i.e. column wise) to make a single array.\n",
    "#------------------------------------------------------------------------------------------------------------------------------\n",
    "# Syntax : numpy.hstack(tup)\n",
    "#------------------------------------------------------------------------------------------------------------------------------\n",
    "# Parameters :\n",
    "# tup : [sequence of ndarrays] Tuple containing arrays to be stacked. \n",
    "# The arrays must have the same shape along all but the second axis.\n",
    "#------------------------------------------------------------------------------------------------------------------------------\n",
    "# Return : [stacked ndarray] The stacked array of the input arrays.\n",
    "#------------------------------------------------------------------------------------------------------------------------------\n",
    "# Code :\n",
    "x = np.random.randint(1, 10, size=(3,3))\n",
    "y = np.random.randint(1, 10, size=(3,3))\n",
    "print(f\"First arrray : \\n{x}\\n\\nSecond arrray : \\n{y}\\n\\n\")\n",
    "print(f\"First and Second hstacked : \\n{np.hstack((x, y))}\\n\")\n",
    "print(f\"First and Second column stacked : \\n{np.hstack((x, y))}\\n\")\n",
    "print(f\"First and Second concatenate : \\n{np.concatenate((x, y), axis= 1)}\")\n",
    "# print(YTheois is y for muy)(1,2,3,) and yaslo the main purpose )"
   ]
  },
  {
   "attachments": {},
   "cell_type": "markdown",
   "metadata": {},
   "source": [
    "Vertical Stacking\n"
   ]
  },
  {
   "cell_type": "code",
   "execution_count": 10,
   "metadata": {},
   "outputs": [
    {
     "name": "stdout",
     "output_type": "stream",
     "text": [
      "First arrray : \n",
      "[[5 1 2]\n",
      " [6 7 1]\n",
      " [8 1 2]]\n",
      "\n",
      "Second arrray : \n",
      "[[2 1 2]\n",
      " [4 7 4]\n",
      " [6 8 9]]\n",
      "\n",
      "\n",
      "First and Second array vStack : [[5 1 2]\n",
      " [6 7 1]\n",
      " [8 1 2]\n",
      " [2 1 2]\n",
      " [4 7 4]\n",
      " [6 8 9]]\n"
     ]
    }
   ],
   "source": [
    "a = np.random.randint(1, 10, size=(3,3))\n",
    "b = np.random.randint(1, 10, size=(3,3))\n",
    "\n",
    "print(f\"First arrray : \\n{a}\\n\\nSecond arrray : \\n{b}\\n\\n\")\n",
    "print(f\"First and Second array vStack : {np.vstack((a,b))}\")\n"
   ]
  }
 ],
 "metadata": {
  "kernelspec": {
   "display_name": "Python 3",
   "language": "python",
   "name": "python3"
  },
  "language_info": {
   "codemirror_mode": {
    "name": "ipython",
    "version": 3
   },
   "file_extension": ".py",
   "mimetype": "text/x-python",
   "name": "python",
   "nbconvert_exporter": "python",
   "pygments_lexer": "ipython3",
   "version": "3.11.0 (main, Oct 24 2022, 18:26:48) [MSC v.1933 64 bit (AMD64)]"
  },
  "orig_nbformat": 4,
  "vscode": {
   "interpreter": {
    "hash": "5238573367df39f7286bb46f9ff5f08f63a01a80960060ce41e3c79b190280fa"
   }
  }
 },
 "nbformat": 4,
 "nbformat_minor": 2
}
