{
 "cells": [
  {
   "attachments": {},
   "cell_type": "markdown",
   "metadata": {},
   "source": [
    "numpy.hstack() in Python"
   ]
  },
  {
   "cell_type": "code",
   "execution_count": 1,
   "metadata": {},
   "outputs": [],
   "source": [
    "import numpy as np"
   ]
  },
  {
   "cell_type": "code",
   "execution_count": 13,
   "metadata": {},
   "outputs": [
    {
     "name": "stdout",
     "output_type": "stream",
     "text": [
      "First arrray : \n",
      "[[2 6 8]\n",
      " [2 7 5]\n",
      " [5 3 5]]\n",
      "\n",
      "Second arrray : \n",
      "[[4 4 8]\n",
      " [7 6 2]\n",
      " [4 2 8]]\n",
      "\n",
      "\n",
      "First and Second hstacked : \n",
      "[[2 6 8 4 4 8]\n",
      " [2 7 5 7 6 2]\n",
      " [5 3 5 4 2 8]]\n",
      "\n",
      "First and Second column stacked : \n",
      "[[2 6 8 4 4 8]\n",
      " [2 7 5 7 6 2]\n",
      " [5 3 5 4 2 8]]\n"
     ]
    }
   ],
   "source": [
    "#------------------------------------------------------------------------------------------------------------------------------\n",
    "# numpy.hstack() function is used to stack the sequence of input arrays horizontally (i.e. column wise) to make a single array.\n",
    "#------------------------------------------------------------------------------------------------------------------------------\n",
    "# Syntax : numpy.hstack(tup)\n",
    "#------------------------------------------------------------------------------------------------------------------------------\n",
    "# Parameters :\n",
    "# tup : [sequence of ndarrays] Tuple containing arrays to be stacked. \n",
    "# The arrays must have the same shape along all but the second axis.\n",
    "#------------------------------------------------------------------------------------------------------------------------------\n",
    "# Return : [stacked ndarray] The stacked array of the input arrays.\n",
    "#------------------------------------------------------------------------------------------------------------------------------\n",
    "# Code :\n",
    "x = np.random.randint(1, 10, size=(3,3))\n",
    "y = np.random.randint(1, 10, size=(3,3))\n",
    "print(f\"First arrray : \\n{x}\\n\\nSecond arrray : \\n{y}\\n\\n\")\n",
    "print(f\"First and Second hstacked : \\n{np.hstack((x, y))}\\n\")\n",
    "print(f\"First and Second column stacked : \\n{np.hstack((x, y))}\")"
   ]
  },
  {
   "cell_type": "code",
   "execution_count": null,
   "metadata": {},
   "outputs": [],
   "source": []
  }
 ],
 "metadata": {
  "kernelspec": {
   "display_name": "Python 3",
   "language": "python",
   "name": "python3"
  },
  "language_info": {
   "codemirror_mode": {
    "name": "ipython",
    "version": 3
   },
   "file_extension": ".py",
   "mimetype": "text/x-python",
   "name": "python",
   "nbconvert_exporter": "python",
   "pygments_lexer": "ipython3",
   "version": "3.11.0"
  },
  "orig_nbformat": 4,
  "vscode": {
   "interpreter": {
    "hash": "5238573367df39f7286bb46f9ff5f08f63a01a80960060ce41e3c79b190280fa"
   }
  }
 },
 "nbformat": 4,
 "nbformat_minor": 2
}
