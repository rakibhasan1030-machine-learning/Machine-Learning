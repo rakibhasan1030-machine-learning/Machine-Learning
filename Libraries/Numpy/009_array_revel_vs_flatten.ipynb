{
 "cells": [
  {
   "attachments": {},
   "cell_type": "markdown",
   "metadata": {},
   "source": [
    "Differences between Flatten() and Ravel() Numpy Functions\n"
   ]
  },
  {
   "cell_type": "code",
   "execution_count": 1,
   "metadata": {},
   "outputs": [],
   "source": [
    "import numpy as np"
   ]
  },
  {
   "attachments": {},
   "cell_type": "markdown",
   "metadata": {},
   "source": [
    "| Ravel | Flatten |\n",
    "| --- | --- |\n",
    "| Return only reference/view of the original array | Return copy of the original array |\n",
    "| If you modify the array you would notice that the value of the original array also changes | If you modify any value of this array value of the original array is not affected |\n",
    "| Ravel is faster than flatten() as it does not occupy any memory | Flatten() is comparatively slower than ravel() as it occupies memory |\n",
    "| Ravel is a library-level function | Flatten is a method of an ndarray object. Let us check out the difference in this code |"
   ]
  },
  {
   "cell_type": "code",
   "execution_count": 6,
   "metadata": {},
   "outputs": [
    {
     "name": "stdout",
     "output_type": "stream",
     "text": [
      "Main array : \n",
      " [[7 6 6]\n",
      " [7 3 8]\n",
      " [8 3 7]]\n",
      "Reveled array : \n",
      " [7 6 6 7 3 8 8 3 7]\n",
      "\n",
      " AFTER CHANGE VALUE\n",
      " \n",
      " Main array : \n",
      " [[155   6   6]\n",
      " [  7   3   8]\n",
      " [  8   3   7]]\n",
      "Reveled array : \n",
      " [155   6   6   7   3   8   8   3   7]\n"
     ]
    }
   ],
   "source": [
    "arr = np.random.randint(1, 10, size=(3,3))\n",
    "print(f\"Main array : \\n {arr}\")\n",
    "raveled_arr = np.ravel(arr)\n",
    "print(f\"Reveled array : \\n {raveled_arr}\")\n",
    "raveled_arr[0] = 155\n",
    "print(f\"\\n AFTER CHANGE VALUE\\n \\n Main array : \\n {arr}\\nReveled array : \\n {raveled_arr}\")"
   ]
  },
  {
   "cell_type": "code",
   "execution_count": 7,
   "metadata": {},
   "outputs": [
    {
     "name": "stdout",
     "output_type": "stream",
     "text": [
      "Main array : \n",
      " [[4 2 5]\n",
      " [7 5 8]\n",
      " [3 8 1]]\n",
      "Flattened_arr array : \n",
      " [4 2 5 7 5 8 3 8 1]\n",
      "\n",
      " AFTER CHANGE VALUE\n",
      " \n",
      " Main array : \n",
      " [[4 2 5]\n",
      " [7 5 8]\n",
      " [3 8 1]]\n",
      "Flattened_arr array : \n",
      " [155   2   5   7   5   8   3   8   1]\n"
     ]
    }
   ],
   "source": [
    "arr2 = np.random.randint(1, 10, size=(3,3))\n",
    "print(f\"Main array : \\n {arr2}\")\n",
    "flattened_arr = arr2.flatten()\n",
    "print(f\"Flattened_arr array : \\n {flattened_arr}\")\n",
    "flattened_arr[0] = 155\n",
    "print(f\"\\n AFTER CHANGE VALUE\\n \\n Main array : \\n {arr2}\\nFlattened_arr array : \\n {flattened_arr}\")"
   ]
  }
 ],
 "metadata": {
  "kernelspec": {
   "display_name": "Python 3",
   "language": "python",
   "name": "python3"
  },
  "language_info": {
   "codemirror_mode": {
    "name": "ipython",
    "version": 3
   },
   "file_extension": ".py",
   "mimetype": "text/x-python",
   "name": "python",
   "nbconvert_exporter": "python",
   "pygments_lexer": "ipython3",
   "version": "3.11.0"
  },
  "orig_nbformat": 4,
  "vscode": {
   "interpreter": {
    "hash": "5238573367df39f7286bb46f9ff5f08f63a01a80960060ce41e3c79b190280fa"
   }
  }
 },
 "nbformat": 4,
 "nbformat_minor": 2
}
