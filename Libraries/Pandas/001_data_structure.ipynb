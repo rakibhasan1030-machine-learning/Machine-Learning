{
 "cells": [
  {
   "attachments": {},
   "cell_type": "markdown",
   "metadata": {},
   "source": [
    "# PANDAS DATA STRUCTURE "
   ]
  },
  {
   "cell_type": "code",
   "execution_count": 4,
   "metadata": {},
   "outputs": [],
   "source": [
    "import numpy as np;\n",
    "import pandas as pd;"
   ]
  },
  {
   "cell_type": "code",
   "execution_count": 5,
   "metadata": {},
   "outputs": [],
   "source": [
    "# Pandas :\n",
    "# Pandas is an open-source library that is made mainly for working with relational or labeled data both easily and intuitively. \n",
    "# It provides various data structures and operations for manipulating numerical data and time series. \n",
    "# This library is built on top of the NumPy library. \n",
    "# Pandas is fast and it has high performance & productivity for users.\n",
    "\n",
    "# Advantages :\n",
    "# Fast and efficient for manipulating and analyzing data.\n",
    "# Data from different file objects can be loaded.\n",
    "# Easy handling of missing data (represented as NaN) in floating point as well as non-floating point data\n",
    "# Size mutability: columns can be inserted and deleted from DataFrame and higher dimensional objects\n",
    "# Data set merging and joining.\n",
    "# Flexible reshaping and pivoting of data sets\n",
    "# Provides time-series functionality.\n",
    "# Powerful group by functionality for performing split-apply-combine operations on data sets.\n",
    "\n",
    "# Pandas generally provide two data structures for manipulating data, They are: \n",
    "# 1. Series\n",
    "# 2. DataFrame"
   ]
  },
  {
   "cell_type": "code",
   "execution_count": 6,
   "metadata": {},
   "outputs": [
    {
     "name": "stdout",
     "output_type": "stream",
     "text": [
      "Series([], dtype: float64)\n",
      "0    g\n",
      "1    e\n",
      "2    e\n",
      "3    k\n",
      "4    s\n",
      "dtype: object\n"
     ]
    },
    {
     "name": "stderr",
     "output_type": "stream",
     "text": [
      "C:\\Users\\rakib\\AppData\\Local\\Temp\\ipykernel_14796\\284926994.py:7: FutureWarning: The default dtype for empty Series will be 'object' instead of 'float64' in a future version. Specify a dtype explicitly to silence this warning.\n",
      "  ser = pd.Series()\n"
     ]
    }
   ],
   "source": [
    "# Series :  \n",
    "# Series is a one-dimensional labeled array capable of holding data of any type (integer, string, float, python objects, etc.).\n",
    "# The axis labels are collectively called index. \n",
    "# Pandas Series is nothing but a column in an excel sheet.\n",
    "\n",
    "# Code : \n",
    "ser = pd.Series()\n",
    "   \n",
    "print(ser)\n",
    " \n",
    "# simple array\n",
    "data = np.array(['g', 'e', 'e', 'k', 's'])\n",
    "   \n",
    "ser = pd.Series(data)\n",
    "print(ser)"
   ]
  },
  {
   "cell_type": "code",
   "execution_count": 7,
   "metadata": {},
   "outputs": [
    {
     "name": "stdout",
     "output_type": "stream",
     "text": [
      "DataFrame : \n",
      "        name  age  id\n",
      "0     Rakib   26   1\n",
      "1     Sohel   24   2\n",
      "2  Khadimul   22   3\n",
      "3    Khalid   26   4\n"
     ]
    }
   ],
   "source": [
    "# DataFrame :\n",
    "# Pandas DataFrame is a two-dimensional size-mutable, potentially heterogeneous tabular data structure with labeled axes (rows and columns). \n",
    "# A Data frame is a two-dimensional data structure, i.e., data is aligned in a tabular fashion in rows and columns. \n",
    "# Pandas DataFrame consists of three principal components, the data, rows, and columns.\n",
    "# Code : \n",
    "dic = {\n",
    "    \"name\" : [\"Rakib\", \"Sohel\", \"Khadimul\",\"Khalid\"],\n",
    "    \"age\" : [26,24,22,26],\n",
    "    \"id\" :  [1,2,3,4]\n",
    "}\n",
    "df = pd.DataFrame(dic) # create csv or excel\n",
    "print(f\"DataFrame : \\n {df}\")"
   ]
  }
 ],
 "metadata": {
  "kernelspec": {
   "display_name": "Python 3",
   "language": "python",
   "name": "python3"
  },
  "language_info": {
   "codemirror_mode": {
    "name": "ipython",
    "version": 3
   },
   "file_extension": ".py",
   "mimetype": "text/x-python",
   "name": "python",
   "nbconvert_exporter": "python",
   "pygments_lexer": "ipython3",
   "version": "3.11.0"
  },
  "orig_nbformat": 4,
  "vscode": {
   "interpreter": {
    "hash": "5238573367df39f7286bb46f9ff5f08f63a01a80960060ce41e3c79b190280fa"
   }
  }
 },
 "nbformat": 4,
 "nbformat_minor": 2
}
