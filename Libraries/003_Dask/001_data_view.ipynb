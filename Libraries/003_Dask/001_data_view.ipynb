{
 "cells": [
  {
   "cell_type": "code",
   "execution_count": 4,
   "metadata": {},
   "outputs": [],
   "source": [
    "import pandas as pd\n",
    "import dask.dataframe as dd"
   ]
  },
  {
   "cell_type": "markdown",
   "metadata": {},
   "source": []
  },
  {
   "cell_type": "code",
   "execution_count": 8,
   "metadata": {},
   "outputs": [
    {
     "name": "stdout",
     "output_type": "stream",
     "text": [
      "14.344927536231884\n"
     ]
    }
   ],
   "source": [
    "# Read weather data with pandas - can read one file at a time \n",
    "\n",
    "df_pandas = pd.read_csv(\"weather-data/2006-04-10.csv\", parse_dates=[\"Formatted Date\"])\n",
    "mean = df_pandas['Temperature (C)'].mean()\n",
    "print(mean)"
   ]
  },
  {
   "cell_type": "code",
   "execution_count": 17,
   "metadata": {},
   "outputs": [
    {
     "name": "stdout",
     "output_type": "stream",
     "text": [
      "             Formatted Date        Summary Precip Type  Temperature (C)  \\\n",
      "0 2006-04-10 01:00:00+02:00  Partly Cloudy        rain         9.911111   \n",
      "1 2006-04-10 02:00:00+02:00  Mostly Cloudy        rain        11.183333   \n",
      "2 2006-04-10 03:00:00+02:00  Partly Cloudy        rain         7.155556   \n",
      "3 2006-04-10 04:00:00+02:00  Partly Cloudy        rain         6.111111   \n",
      "4 2006-04-10 05:00:00+02:00  Partly Cloudy        rain         6.788889   \n",
      "\n",
      "   Apparent Temperature (C)  Humidity  Wind Speed (km/h)  \\\n",
      "0                  7.566667      0.66            17.2109   \n",
      "1                 11.183333      0.80            10.8192   \n",
      "2                  5.044444      0.79            11.0768   \n",
      "3                  4.816667      0.82             6.6493   \n",
      "4                  4.272222      0.83            13.0088   \n",
      "\n",
      "   Wind Bearing (degrees)  Visibility (km)  Loud Cover  Pressure (millibars)  \\\n",
      "0                   149.0          15.8263         0.0               1014.20   \n",
      "1                   163.0          14.9569         0.0               1008.71   \n",
      "2                   180.0          15.8263         0.0               1014.47   \n",
      "3                   161.0          15.8263         0.0               1014.45   \n",
      "4                   135.0          14.9569         0.0               1014.49   \n",
      "\n",
      "                       Daily Summary  \n",
      "0  Mostly cloudy throughout the day.  \n",
      "1  Mostly cloudy throughout the day.  \n",
      "2  Mostly cloudy throughout the day.  \n",
      "3  Mostly cloudy throughout the day.  \n",
      "4  Mostly cloudy throughout the day.  \n",
      "\n",
      "Mean of all day from all files : 10.719613526570047\n",
      "\n",
      "\n",
      "\n",
      "\n",
      "Temp daily_mean: date\n",
      "2006-04-10    14.344928\n",
      "2006-04-11    12.313768\n",
      "2006-04-12     8.378019\n",
      "2006-04-13     7.527053\n",
      "2006-04-14    11.034300\n",
      "Name: Temperature (C), dtype: float64\n"
     ]
    }
   ],
   "source": [
    "# Read weather data with dask - can read multiple file at a time \n",
    "\n",
    "df_dask = dd.read_csv(\"weather-data/2006-*-*.csv\", \n",
    "parse_dates=[\"Formatted Date\"])\n",
    "print(df_dask.head())\n",
    "all_day_mean = df_dask['Temperature (C)'].mean().compute()\n",
    "print(f\"\\nMean of all day from all files : {all_day_mean}\")\n",
    "\n",
    "df_dask['date'] = df_dask['Formatted Date'].dt.date\n",
    "daily_mean = df_dask.groupby(\"date\")['Temperature (C)'].mean().compute()\n",
    "print(\"Temp daily_mean: \"+ str(daily_mean))"
   ]
  }
 ],
 "metadata": {
  "kernelspec": {
   "display_name": "Python 3",
   "language": "python",
   "name": "python3"
  },
  "language_info": {
   "codemirror_mode": {
    "name": "ipython",
    "version": 3
   },
   "file_extension": ".py",
   "mimetype": "text/x-python",
   "name": "python",
   "nbconvert_exporter": "python",
   "pygments_lexer": "ipython3",
   "version": "3.11.0 (main, Oct 24 2022, 18:26:48) [MSC v.1933 64 bit (AMD64)]"
  },
  "orig_nbformat": 4,
  "vscode": {
   "interpreter": {
    "hash": "5238573367df39f7286bb46f9ff5f08f63a01a80960060ce41e3c79b190280fa"
   }
  }
 },
 "nbformat": 4,
 "nbformat_minor": 2
}
