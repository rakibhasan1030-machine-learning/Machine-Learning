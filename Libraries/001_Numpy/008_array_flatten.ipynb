{
 "cells": [
  {
   "attachments": {},
   "cell_type": "markdown",
   "metadata": {},
   "source": [
    "Array Ravel"
   ]
  },
  {
   "cell_type": "code",
   "execution_count": 1,
   "metadata": {},
   "outputs": [],
   "source": [
    "import numpy as np"
   ]
  },
  {
   "cell_type": "code",
   "execution_count": 3,
   "metadata": {},
   "outputs": [
    {
     "name": "stdout",
     "output_type": "stream",
     "text": [
      "Main array (3, 3) : \n",
      " [[9 3 8]\n",
      " [4 8 7]\n",
      " [2 9 9]]\n",
      "\n",
      "After flatten (9,) : \n",
      " [9 3 8 4 8 7 2 9 9]\n"
     ]
    }
   ],
   "source": [
    "# ----------------------------------------------------------------------------------------------------------\n",
    "# numpy.ndarray.flatten() function return a copy of the array collapsed into one dimension.\n",
    "# ----------------------------------------------------------------------------------------------------------\n",
    "# Syntax : numpy.ndarray.flatten(order=’C’)\n",
    "# ----------------------------------------------------------------------------------------------------------\n",
    "# Parameters :\n",
    "# order : [{‘C’, ‘F’, ‘A’, ‘K’}, optional] ‘C’ means to flatten in row-major (C-style) order. \n",
    "# ‘F’ means to flatten in column-major (Fortran- style) order. \n",
    "# ‘A’ means to flatten in column-major order if a is Fortran contiguous in memory, row-major order otherwise. \n",
    "# ‘K’ means to flatten a in the order the elements occur in memory. The default is ‘C’.\n",
    "# ----------------------------------------------------------------------------------------------------------\n",
    "# Return : [ndarray] A copy of the input array, flattened to one dimension.\n",
    "# ----------------------------------------------------------------------------------------------------------\n",
    "# Code : \n",
    "two_d_array = np.random.randint(1, 10, size=(3,3))  # 3D array\n",
    "print(f\"Main array {two_d_array.shape} : \\n {two_d_array}\\n\") # array print\n",
    "flattened_two_d_array = two_d_array.flatten()\n",
    "print(f\"After flatten {flattened_two_d_array.shape} : \\n {flattened_two_d_array}\") # array print"
   ]
  }
 ],
 "metadata": {
  "kernelspec": {
   "display_name": "Python 3",
   "language": "python",
   "name": "python3"
  },
  "language_info": {
   "codemirror_mode": {
    "name": "ipython",
    "version": 3
   },
   "file_extension": ".py",
   "mimetype": "text/x-python",
   "name": "python",
   "nbconvert_exporter": "python",
   "pygments_lexer": "ipython3",
   "version": "3.11.0"
  },
  "orig_nbformat": 4,
  "vscode": {
   "interpreter": {
    "hash": "5238573367df39f7286bb46f9ff5f08f63a01a80960060ce41e3c79b190280fa"
   }
  }
 },
 "nbformat": 4,
 "nbformat_minor": 2
}
