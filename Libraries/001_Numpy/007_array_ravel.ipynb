{
 "cells": [
  {
   "attachments": {},
   "cell_type": "markdown",
   "metadata": {},
   "source": [
    "Array Ravel"
   ]
  },
  {
   "cell_type": "code",
   "execution_count": 2,
   "metadata": {},
   "outputs": [],
   "source": [
    "import numpy as np"
   ]
  },
  {
   "cell_type": "code",
   "execution_count": 8,
   "metadata": {},
   "outputs": [
    {
     "name": "stdout",
     "output_type": "stream",
     "text": [
      "Main array (3, 3) : \n",
      " [[7 2 5]\n",
      " [6 2 6]\n",
      " [7 9 6]]\n",
      "\n",
      "After ravel (9,) : \n",
      " [7 2 5 6 2 6 7 9 6]\n"
     ]
    }
   ],
   "source": [
    "# ----------------------------------------------------------------------------------------------------------------------------------------\n",
    "# The numpy.ravel() functions returns contiguous flattened array(1D array with all the input-array elements and with the same type as it). \n",
    "# A copy is made only if needed.\n",
    "# ----------------------------------------------------------------------------------------------------------------------------------------\n",
    "\n",
    "# Syntax : \n",
    "# numpy.ravel(array, order = 'C')\n",
    "# ----------------------------------------------------------------------------------------------------------------------------------------\n",
    "# Parameters :  \n",
    "# array : [array_like]Input array. \n",
    "# order : [C-contiguous, F-contiguous, A-contiguous; optional]         \n",
    "#          C-contiguous order in memory(last index varies the fastest)\n",
    "#          C order means that operating row-rise on the array will be slightly quicker\n",
    "#          FORTRAN-contiguous order in memory (first index varies the fastest).\n",
    "#          F order means that column-wise operations will be faster. \n",
    "#          ‘A’ means to read / write the elements in Fortran-like index order if,\n",
    "#          array is Fortran contiguous in memory, C-like order otherwise\n",
    "# ----------------------------------------------------------------------------------------------------------------------------------------\n",
    "# Return : \n",
    "# Flattened array having same type as the Input array and and order as per choice.\n",
    "# ----------------------------------------------------------------------------------------------------------------------------------------\n",
    "# Code :\n",
    "two_d_array = np.random.randint(1, 10, size=(3,3))  # 3D array\n",
    "print(f\"Main array {two_d_array.shape} : \\n {two_d_array}\\n\") # array print\n",
    "ravel_two_d_array = np.ravel(two_d_array)\n",
    "print(f\"After ravel {ravel_two_d_array.shape} : \\n {ravel_two_d_array}\") # array print"
   ]
  }
 ],
 "metadata": {
  "kernelspec": {
   "display_name": "Python 3",
   "language": "python",
   "name": "python3"
  },
  "language_info": {
   "codemirror_mode": {
    "name": "ipython",
    "version": 3
   },
   "file_extension": ".py",
   "mimetype": "text/x-python",
   "name": "python",
   "nbconvert_exporter": "python",
   "pygments_lexer": "ipython3",
   "version": "3.11.0 (main, Oct 24 2022, 18:26:48) [MSC v.1933 64 bit (AMD64)]"
  },
  "orig_nbformat": 4,
  "vscode": {
   "interpreter": {
    "hash": "5238573367df39f7286bb46f9ff5f08f63a01a80960060ce41e3c79b190280fa"
   }
  }
 },
 "nbformat": 4,
 "nbformat_minor": 2
}
