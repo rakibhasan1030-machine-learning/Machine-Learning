{
 "cells": [
  {
   "attachments": {},
   "cell_type": "markdown",
   "metadata": {},
   "source": [
    "Array Creation\n"
   ]
  },
  {
   "cell_type": "code",
   "execution_count": 76,
   "metadata": {},
   "outputs": [],
   "source": [
    "import numpy as np"
   ]
  },
  {
   "cell_type": "code",
   "execution_count": 77,
   "metadata": {},
   "outputs": [
    {
     "name": "stdout",
     "output_type": "stream",
     "text": [
      "[[0 0]\n",
      " [0 0]]\n"
     ]
    }
   ],
   "source": [
    "# ------------------------------------------------------------------------------------\n",
    "# The numpy.zeros() function returns a new array of given shape and type, with zeros. \n",
    "# Syntax:\n",
    "# numpy.zeros(shape, dtype = None, order = 'C')\n",
    "# ------------------------------------------------------------------------------------\n",
    "# Parameters :\n",
    "# shape : integer or sequence of integers\n",
    "# order  : C_contiguous or F_contiguous\n",
    "\n",
    "#          C-contiguous order in memory(last index varies the fastest)\n",
    "#          C order means that operating row-rise on the array will be slightly quicker\n",
    "#          FORTRAN-contiguous order in memory (first index varies the fastest).\n",
    "#          F order means that column-wise operations will be faster. \n",
    "# dtype : [optional, float(byDeafult)] Data type of returned array.\n",
    "# ------------------------------------------------------------------------------------\n",
    "# Returns : \n",
    "# ndarray of zeros having given shape, order and datatype.\n",
    "# ------------------------------------------------------------------------------------\n",
    "# Code:\n",
    "zeros_arr = np.zeros((2,2), dtype=\"int\") # all element of array will be 0, dimention 2x2 and data type int \n",
    "print(zeros_arr)"
   ]
  },
  {
   "cell_type": "code",
   "execution_count": 78,
   "metadata": {},
   "outputs": [
    {
     "name": "stdout",
     "output_type": "stream",
     "text": [
      "[[1. 1. 1.]\n",
      " [1. 1. 1.]\n",
      " [1. 1. 1.]]\n"
     ]
    }
   ],
   "source": [
    "# ------------------------------------------------------------------------------------\n",
    "# The numpy.ones() function returns a new array of given shape and type, with ones.\n",
    " # ------------------------------------------------------------------------------------\n",
    "# Syntax: numpy.ones(shape, dtype = None, order = 'C') \n",
    "# ------------------------------------------------------------------------------------\n",
    "# Parameters : \n",
    "# shape : integer or sequence of integers\n",
    "# order  : C_contiguous or F_contiguous\n",
    "#          C-contiguous order in memory(last index varies the fastest)\n",
    "#          C order means that operating row-rise on the array will be slightly quicker\n",
    "#          FORTRAN-contiguous order in memory (first index varies the fastest).\n",
    "#          F order means that column-wise operations will be faster. \n",
    "# dtype : [optional, float(byDefault)] Data type of returned array.\n",
    "# ------------------------------------------------------------------------------------\n",
    "# Returns : \n",
    "# ndarray of ones having given shape, order and datatype.\n",
    "# ------------------------------------------------------------------------------------\n",
    "# Code :\n",
    "ones_arr = np.ones((3,3), dtype=\"float\") # all element of array will be 1, dimention 3x3 and data type float \n",
    "print(ones_arr)"
   ]
  },
  {
   "cell_type": "code",
   "execution_count": 79,
   "metadata": {},
   "outputs": [
    {
     "name": "stdout",
     "output_type": "stream",
     "text": [
      "[[9 9 9]\n",
      " [9 9 9]\n",
      " [9 9 9]\n",
      " [9 9 9]]\n"
     ]
    }
   ],
   "source": [
    "# ------------------------------------------------------------------------------------------\n",
    "# numpy.full(shape, fill_value, dtype = None, order = ‘C’) : \n",
    "# Return a new array with the same shape and type as a given array filled with a fill_value.\n",
    "# ------------------------------------------------------------------------------------------\n",
    "# Parameters :\n",
    "# shape      : Number of rows\n",
    "# order      : C_contiguous or F_contiguous\n",
    "# dtype      : [optional, float(by Default)] Data type of returned array.  \n",
    "# fill_value : [bool, optional] Value to fill in the array.\n",
    "# ------------------------------------------------------------------------------------------\n",
    "# Returns :\n",
    "# ndarray\n",
    "# ------------------------------------------------------------------------------------------\n",
    "# Code :\n",
    "full_arr = np.full((4,3), 9, dtype=\"int\") # all element of array will be 9 (as given), dimention 3x3 and data type int \n",
    "print(full_arr)"
   ]
  },
  {
   "cell_type": "code",
   "execution_count": 80,
   "metadata": {},
   "outputs": [
    {
     "name": "stdout",
     "output_type": "stream",
     "text": [
      "[[1 0 0 0 0]\n",
      " [0 1 0 0 0]\n",
      " [0 0 1 0 0]\n",
      " [0 0 0 1 0]\n",
      " [0 0 0 0 1]]\n"
     ]
    }
   ],
   "source": [
    "# ---------------------------------------------------------------------------------------------------------------\n",
    "# numpy.identity(n, dtype = None) : Return a identity matrix i.e. a square matrix with ones on the main diagonal.\n",
    "# ---------------------------------------------------------------------------------------------------------------\n",
    "# Parameters :\n",
    "# n : [int] Dimension n x n of output array  \n",
    "# dtype : [optional, float(by Default)] Data type of returned array.\n",
    "# ---------------------------------------------------------------------------------------------------------------\n",
    "# Returns : \n",
    "# identity array of dimension n x n,  with its main diagonal set to one, and all other elements 0.\n",
    "# ---------------------------------------------------------------------------------------------------------------\n",
    "# Code :\n",
    "identity_arr = np.identity(5, dtype=\"int\") # identity matrix is a squre matrix, which row is equal to column. So, dimention will be 5x5\n",
    "print(identity_arr)"
   ]
  },
  {
   "cell_type": "code",
   "execution_count": 81,
   "metadata": {},
   "outputs": [
    {
     "name": "stdout",
     "output_type": "stream",
     "text": [
      "[[1 0 0 0 0]\n",
      " [0 1 0 0 0]\n",
      " [0 0 1 0 0]\n",
      " [0 0 0 1 0]\n",
      " [0 0 0 0 1]]\n"
     ]
    }
   ],
   "source": [
    "# ---------------------------------------------------------------------------------------------------------------------\n",
    "# numpy.eye(R, C = None, k = 0, dtype = type <‘float’>) : \n",
    "# The eye tool returns a 2-D array with  1’s as the diagonal and  0’s elsewhere. \n",
    "# The diagonal can be main, upper, or lower depending on the optional parameter k. \n",
    "# A positive k is for the upper diagonal, a negative k is for the lower, and a  0 k (default) is for the main diagonal.\n",
    "# ---------------------------------------------------------------------------------------------------------------------\n",
    "# R : Number of rows\n",
    "# C : [optional] Number of columns; By default M = N\n",
    "# k : [int, optional, 0 by default]\n",
    "# Diagonal we require; k>0 means diagonal above main diagonal or vice versa.\n",
    "# dtype : [optional, float(by Default)] Data type of returned array. \n",
    "# ---------------------------------------------------------------------------------------------------------------------\n",
    "# Code :\n",
    "eye_arr = np.eye(5, 5, k = 0, dtype=\"int\") # matrix with R=4 C=5 and 1 on diagonal\n",
    "print(eye_arr)"
   ]
  },
  {
   "cell_type": "code",
   "execution_count": 82,
   "metadata": {},
   "outputs": [
    {
     "name": "stdout",
     "output_type": "stream",
     "text": [
      "[1 2 3 4 5 6 7 8 9]\n",
      "[ 1  6 11 16 21 26 31 36 41 46]\n"
     ]
    }
   ],
   "source": [
    "# ----------------------------------------------------------------------------------------\n",
    "# The arange([start,] stop[, step,][, dtype]) : \n",
    "# Returns an array with evenly spaced elements as per the interval. \n",
    "# The interval mentioned is half-opened i.e. [Start, Stop) \n",
    "# ----------------------------------------------------------------------------------------\n",
    "# start : [optional] start of interval range. By default start = 0\n",
    "# stop  : end of interval range\n",
    "# step  : [optional] step size of interval. By default step size = 1,  \n",
    "# For any output out, this is the distance between two adjacent values, out[i+1] - out[i].\n",
    "# ----------------------------------------------------------------------------------------\n",
    "# dtype : type of output array\n",
    "# ----------------------------------------------------------------------------------------\n",
    "# Code :\n",
    "arange_arr = np.arange(1, 10)\n",
    "arange_arr2 = np.arange(1, 50, 5)\n",
    "print(arange_arr)\n",
    "print(arange_arr2)"
   ]
  },
  {
   "cell_type": "code",
   "execution_count": 83,
   "metadata": {},
   "outputs": [
    {
     "name": "stdout",
     "output_type": "stream",
     "text": [
      "Array = [ 1.          1.47368421  1.94736842  2.42105263  2.89473684  3.36842105\n",
      "  3.84210526  4.31578947  4.78947368  5.26315789  5.73684211  6.21052632\n",
      "  6.68421053  7.15789474  7.63157895  8.10526316  8.57894737  9.05263158\n",
      "  9.52631579 10.        ] \n",
      " Array Size = 20\n"
     ]
    }
   ],
   "source": [
    "# The numpy.linspace() function returns number spaces evenly w.r.t interval. \n",
    "# Similar to numpy.arange() function but instead of step it uses sample number.\n",
    "# -----------------------------------------------------------------------------\n",
    "# Syntax : \n",
    "# numpy.linspace(start,\n",
    "#                stop,\n",
    "#                num = 50,\n",
    "#                endpoint = True,\n",
    "#                retstep = False,\n",
    "#                dtype = None)\n",
    "# -----------------------------------------------------------------------------\n",
    "# Parameters : \n",
    "# -> start  : [optional] start of interval range. By default start = 0\n",
    "# -> stop   : end of interval range\n",
    "# -> restep : If True, return (samples, step). By default restep = False\n",
    "# -> num    : [int, optional] No. of samples to generate\n",
    "# -> dtype  : type of output array\n",
    "# -----------------------------------------------------------------------------\n",
    "# Return : \n",
    "# -> ndarray\n",
    "# -> step : [float, optional], if restep = True\n",
    "# -----------------------------------------------------------------------------\n",
    "# Code :\n",
    "linspace_arr = np.linspace(1, 10, 20)\n",
    "print(f\"Array = {linspace_arr} \\n Array Size = {linspace_arr.size}\")"
   ]
  },
  {
   "cell_type": "code",
   "execution_count": 84,
   "metadata": {},
   "outputs": [
    {
     "name": "stdout",
     "output_type": "stream",
     "text": [
      "ONE D EMPTY ARRAY = [         0 1076101120]\n",
      "TWO D EMPTY ARRAY = [[1 2 3]\n",
      " [4 5 6]\n",
      " [7 8 9]]\n"
     ]
    }
   ],
   "source": [
    "# ---------------------------------------------------------------------\n",
    "# numpy.empty(shape, dtype = float, order = ‘C’) : \n",
    "# Return a new array of given shape and type, with random values.\n",
    "# ---------------------------------------------------------------------\n",
    "# Parameters :\n",
    "# -> shape : Number of rows\n",
    "# -> order : C_contiguous or F_contiguous\n",
    "# -> dtype : [optional, float(by Default)] Data type of returned array.\n",
    "# ---------------------------------------------------------------------\n",
    "# Code :\n",
    "empty_one_d_arr = np.empty(2, dtype=\"int\")\n",
    "empty_two_d_arr = np.empty((3,3), dtype=\"int\")\n",
    "print(f\"ONE D EMPTY ARRAY = {empty_one_d_arr}\\nTWO D EMPTY ARRAY = {empty_two_d_arr}\")"
   ]
  }
 ],
 "metadata": {
  "kernelspec": {
   "display_name": "Python 3",
   "language": "python",
   "name": "python3"
  },
  "language_info": {
   "codemirror_mode": {
    "name": "ipython",
    "version": 3
   },
   "file_extension": ".py",
   "mimetype": "text/x-python",
   "name": "python",
   "nbconvert_exporter": "python",
   "pygments_lexer": "ipython3",
   "version": "3.11.0 (main, Oct 24 2022, 18:26:48) [MSC v.1933 64 bit (AMD64)]"
  },
  "orig_nbformat": 4,
  "vscode": {
   "interpreter": {
    "hash": "5238573367df39f7286bb46f9ff5f08f63a01a80960060ce41e3c79b190280fa"
   }
  }
 },
 "nbformat": 4,
 "nbformat_minor": 2
}
