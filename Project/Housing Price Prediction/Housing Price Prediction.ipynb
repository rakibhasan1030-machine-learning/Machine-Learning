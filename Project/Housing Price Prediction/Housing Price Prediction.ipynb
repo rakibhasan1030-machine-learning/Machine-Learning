{
 "cells": [
  {
   "attachments": {},
   "cell_type": "markdown",
   "metadata": {},
   "source": [
    "# Housing Price Precition\n",
    "\n",
    "###### _DATABSE - [UCI Housing Database](https://archive.ics.uci.edu/ml/machine-learning-databases/housing/)_"
   ]
  },
  {
   "attachments": {},
   "cell_type": "markdown",
   "metadata": {},
   "source": [
    "#### PROBLEM TEARDOWN\n",
    "\n",
    "**We're given dataset of house prices with some feature like numeber of barthrooms, number of bedroom e.t.c. Our task is to create a model which will predict the price for any new house by looking at the feature.**\n",
    "\n",
    "#### FINDING THE TYPE OF MODEL \n",
    "\n",
    "- The model will be supervised (as feature and labels is given).\n",
    "- This will be a regression task (as our output is a predicted value)\n",
    "- It'll be a batch learing (as the data is static, no new data will come later).\n",
    "\n",
    "#### SELECTING A PERFORMANCE MEASURE\n",
    "\n",
    "- We'll use _Mean Square Error_ for measure the performance of our regression problem."
   ]
  },
  {
   "cell_type": "code",
   "execution_count": 1,
   "metadata": {},
   "outputs": [],
   "source": [
    "# importing library\n",
    "import pandas as pd"
   ]
  },
  {
   "cell_type": "code",
   "execution_count": 3,
   "metadata": {},
   "outputs": [],
   "source": [
    "data = pd.read_csv(\"data.csv\")\n",
    "# print(data)"
   ]
  }
 ],
 "metadata": {
  "kernelspec": {
   "display_name": "Python 3",
   "language": "python",
   "name": "python3"
  },
  "language_info": {
   "codemirror_mode": {
    "name": "ipython",
    "version": 3
   },
   "file_extension": ".py",
   "mimetype": "text/x-python",
   "name": "python",
   "nbconvert_exporter": "python",
   "pygments_lexer": "ipython3",
   "version": "3.11.0"
  },
  "orig_nbformat": 4,
  "vscode": {
   "interpreter": {
    "hash": "5238573367df39f7286bb46f9ff5f08f63a01a80960060ce41e3c79b190280fa"
   }
  }
 },
 "nbformat": 4,
 "nbformat_minor": 2
}
