{
 "cells": [
  {
   "attachments": {},
   "cell_type": "markdown",
   "metadata": {},
   "source": [
    "# Housing Price Precition\n",
    "\n",
    "###### _DATABSE - [UCI Housing Database](https://archive.ics.uci.edu/ml/machine-learning-databases/housing/)_"
   ]
  },
  {
   "attachments": {},
   "cell_type": "markdown",
   "metadata": {},
   "source": [
    "#### PROBLEM TEARDOWN\n",
    "\n",
    "**We're given dataset of house prices with some feature like numeber of barthrooms, number of bedroom e.t.c. Our task is to create a model which will predict the price for any new house by looking at the feature.**\n",
    "\n",
    "#### FINDING THE TYPE OF MODEL \n",
    "\n",
    "- The model will be supervised (as feature and labels is given).\n",
    "- This will be a regression task (as our output is a predicted value)\n",
    "- It'll be a batch learing (as the data is static, no new data will come later).\n",
    "\n",
    "#### SELECTING A PERFORMANCE MEASURE\n",
    "\n",
    "- We'll use _Mean Square Error_ for measure the performance of our regression problem."
   ]
  },
  {
   "attachments": {},
   "cell_type": "markdown",
   "metadata": {},
   "source": [
    "# SOLUTION"
   ]
  },
  {
   "attachments": {},
   "cell_type": "markdown",
   "metadata": {},
   "source": [
    "### 1. <u>DATA OBSERVATION AND ANALYSIS</u>"
   ]
  },
  {
   "cell_type": "code",
   "execution_count": 765,
   "metadata": {},
   "outputs": [],
   "source": [
    "# importing library\n",
    "import pandas as pd"
   ]
  },
  {
   "cell_type": "code",
   "execution_count": 766,
   "metadata": {},
   "outputs": [
    {
     "name": "stdout",
     "output_type": "stream",
     "text": [
      "      CRIM    ZN  INDUS  CHAS    NOX     RM   AGE     DIS  RAD  TAX  PTRATIO  \\\n",
      "0  0.00632  18.0   2.31     0  0.538  6.575  65.2  4.0900    1  296     15.3   \n",
      "1  0.02731   0.0   7.07     0  0.469  6.421  78.9  4.9671    2  242     17.8   \n",
      "2  0.02729   0.0   7.07     0  0.469  7.185  61.1  4.9671    2  242     17.8   \n",
      "3  0.03237   0.0   2.18     0  0.458  6.998  45.8  6.0622    3  222     18.7   \n",
      "4  0.06905   0.0   2.18     0  0.458  7.147  54.2  6.0622    3  222     18.7   \n",
      "\n",
      "        B  LSTAT  MEDV  \n",
      "0  396.90   4.98  24.0  \n",
      "1  396.90   9.14  21.6  \n",
      "2  392.83   4.03  34.7  \n",
      "3  394.63   2.94  33.4  \n",
      "4  396.90   5.33  36.2  \n"
     ]
    }
   ],
   "source": [
    "housing_data = pd.read_csv(\"data.csv\")\n",
    "# print all data\n",
    "print(housing_data.head())"
   ]
  },
  {
   "cell_type": "code",
   "execution_count": 767,
   "metadata": {},
   "outputs": [
    {
     "name": "stdout",
     "output_type": "stream",
     "text": [
      "<class 'pandas.core.frame.DataFrame'>\n",
      "RangeIndex: 506 entries, 0 to 505\n",
      "Data columns (total 14 columns):\n",
      " #   Column   Non-Null Count  Dtype  \n",
      "---  ------   --------------  -----  \n",
      " 0   CRIM     506 non-null    float64\n",
      " 1   ZN       506 non-null    float64\n",
      " 2   INDUS    506 non-null    float64\n",
      " 3   CHAS     506 non-null    int64  \n",
      " 4   NOX      506 non-null    float64\n",
      " 5   RM       501 non-null    float64\n",
      " 6   AGE      506 non-null    float64\n",
      " 7   DIS      506 non-null    float64\n",
      " 8   RAD      506 non-null    int64  \n",
      " 9   TAX      506 non-null    int64  \n",
      " 10  PTRATIO  506 non-null    float64\n",
      " 11  B        506 non-null    float64\n",
      " 12  LSTAT    506 non-null    float64\n",
      " 13  MEDV     506 non-null    float64\n",
      "dtypes: float64(11), int64(3)\n",
      "memory usage: 55.5 KB\n",
      "None\n"
     ]
    }
   ],
   "source": [
    "# print all data info\n",
    "print(housing_data.info())"
   ]
  },
  {
   "cell_type": "code",
   "execution_count": 768,
   "metadata": {},
   "outputs": [
    {
     "name": "stdout",
     "output_type": "stream",
     "text": [
      "0      0\n",
      "1      0\n",
      "2      0\n",
      "3      0\n",
      "4      0\n",
      "      ..\n",
      "501    0\n",
      "502    0\n",
      "503    0\n",
      "504    0\n",
      "505    0\n",
      "Name: CHAS, Length: 506, dtype: int64\n",
      "0    471\n",
      "1     35\n",
      "Name: CHAS, dtype: int64\n"
     ]
    }
   ],
   "source": [
    "# print CHAS column data\n",
    "print(housing_data['CHAS'])\n",
    "\n",
    "# print CHAS column data - how many data oocur and how many times \n",
    "print(housing_data['CHAS'].value_counts())"
   ]
  },
  {
   "cell_type": "code",
   "execution_count": 769,
   "metadata": {},
   "outputs": [
    {
     "name": "stdout",
     "output_type": "stream",
     "text": [
      "             CRIM          ZN       INDUS        CHAS         NOX          RM  \\\n",
      "count  506.000000  506.000000  506.000000  506.000000  506.000000  501.000000   \n",
      "mean     3.613524   11.363636   11.136779    0.069170    0.554695    6.280972   \n",
      "std      8.601545   23.322453    6.860353    0.253994    0.115878    0.699170   \n",
      "min      0.006320    0.000000    0.460000    0.000000    0.385000    3.561000   \n",
      "25%      0.082045    0.000000    5.190000    0.000000    0.449000    5.885000   \n",
      "50%      0.256510    0.000000    9.690000    0.000000    0.538000    6.209000   \n",
      "75%      3.677083   12.500000   18.100000    0.000000    0.624000    6.619000   \n",
      "max     88.976200  100.000000   27.740000    1.000000    0.871000    8.780000   \n",
      "\n",
      "              AGE         DIS         RAD         TAX     PTRATIO           B  \\\n",
      "count  506.000000  506.000000  506.000000  506.000000  506.000000  506.000000   \n",
      "mean    68.574901    3.795043    9.549407  408.237154   18.455534  356.674032   \n",
      "std     28.148861    2.105710    8.707259  168.537116    2.164946   91.294864   \n",
      "min      2.900000    1.129600    1.000000  187.000000   12.600000    0.320000   \n",
      "25%     45.025000    2.100175    4.000000  279.000000   17.400000  375.377500   \n",
      "50%     77.500000    3.207450    5.000000  330.000000   19.050000  391.440000   \n",
      "75%     94.075000    5.188425   24.000000  666.000000   20.200000  396.225000   \n",
      "max    100.000000   12.126500   24.000000  711.000000   22.000000  396.900000   \n",
      "\n",
      "            LSTAT        MEDV  \n",
      "count  506.000000  506.000000  \n",
      "mean    12.653063   22.532806  \n",
      "std      7.141062    9.197104  \n",
      "min      1.730000    5.000000  \n",
      "25%      6.950000   17.025000  \n",
      "50%     11.360000   21.200000  \n",
      "75%     16.955000   25.000000  \n",
      "max     37.970000   50.000000  \n"
     ]
    }
   ],
   "source": [
    "\n",
    "# describe() :\n",
    "# count : Count number of non-NA/null observations.\n",
    "# mean (avearage) : Mean of the values.\n",
    "# std : Standard deviation of the observations.\n",
    "# min : Minimum of the values in the object.\n",
    "# 25% : 25% value of the obervation is less than the output.\n",
    "# 50% : 50% value of the obervation is less than the output.\n",
    "# 75% : 75% value of the obervation is less than the output.\n",
    "# max : Maximum of the values in the object.\n",
    "\n",
    "print(housing_data.describe())"
   ]
  },
  {
   "cell_type": "code",
   "execution_count": 770,
   "metadata": {},
   "outputs": [],
   "source": [
    "# this line says that, plot must be drawn here\n",
    "%matplotlib inline\n",
    "# import matplotlib for plot diagram\n",
    "import matplotlib.pyplot as plt\n",
    "# plot histogram for all data column in housing data\n",
    "# housing_data.hist(bins=50, figsize=(15, 10))"
   ]
  },
  {
   "attachments": {},
   "cell_type": "markdown",
   "metadata": {},
   "source": [
    "### 2. <u>TRAIN-TEST SPLITTING</u>"
   ]
  },
  {
   "cell_type": "code",
   "execution_count": 771,
   "metadata": {},
   "outputs": [],
   "source": [
    "# impor numpy\n",
    "import numpy as np\n",
    "\n",
    "# create a function to split housing data in train and test set\n",
    "# [N.B : this model also is available at scikit-learn, we impliment this method here for learning purpose]\n",
    "def split_tarin_test(data, test_ratio):\n",
    "    # if we don't use random.seed(), it will shuffle all data every time on runtime.\n",
    "    # So, once in a situation, the model will learn or see the test data also, as the data is shuffling every run.\n",
    "    np.random.seed(42) # this line will fix the first 80% train data and last 20% test data\n",
    "    shuffled_data = np.random.permutation(len(data))\n",
    "    # print(shuffled_data)\n",
    "    test_set_size = int(len(data) * test_ratio)\n",
    "    test_indices = shuffled_data[:test_set_size]\n",
    "    train_indices = shuffled_data[test_set_size:]\n",
    "    return data.iloc[train_indices], data.iloc[test_indices]\n"
   ]
  },
  {
   "cell_type": "code",
   "execution_count": 772,
   "metadata": {},
   "outputs": [],
   "source": [
    "# print train and test rows\n",
    "train_sets, test_sets = split_tarin_test(housing_data, 0.2)\n",
    "# print(f\"Rows in train sets : {len(train_sets)}\\nRows in test sets : {len(test_sets)}\")\n"
   ]
  },
  {
   "cell_type": "code",
   "execution_count": 773,
   "metadata": {},
   "outputs": [
    {
     "name": "stdout",
     "output_type": "stream",
     "text": [
      "Rows in train sets : 404\n",
      "Rows in test sets : 102\n"
     ]
    },
    {
     "data": {
      "text/plain": [
       "0    471\n",
       "1     35\n",
       "Name: CHAS, dtype: int64"
      ]
     },
     "execution_count": 773,
     "metadata": {},
     "output_type": "execute_result"
    }
   ],
   "source": [
    "# import train_test_split from sklearn\n",
    "from sklearn.model_selection import train_test_split\n",
    "\n",
    "# Here, we impliment train_test_split from sklearn, in previous we user our train_test_split function\n",
    "train_set, test_set = train_test_split(housing_data, test_size=0.2, random_state=42)\n",
    "print(f\"Rows in train sets : {len(train_set)}\\nRows in test sets : {len(test_set)}\")\n",
    "housing_data['CHAS'].value_counts()"
   ]
  },
  {
   "cell_type": "code",
   "execution_count": 774,
   "metadata": {},
   "outputs": [
    {
     "name": "stdout",
     "output_type": "stream",
     "text": [
      "TRAIN 'CHAS' value :\n",
      "0    376\n",
      "1     28\n",
      "Name: CHAS, dtype: int64 \n",
      "TRAIN 'CHAS' ratio (376/28) : 13.428571428571429\n",
      "\n",
      "TEST 'CHAS' value :\n",
      "0    376\n",
      "1     28\n",
      "Name: CHAS, dtype: int64 \n",
      "TEST 'CHAS' ratio (95/7) : 13.571428571428571\n"
     ]
    }
   ],
   "source": [
    "# why StratifiedShuffleSplit is importent?\n",
    "# After splitting data, the ratio will be train = 404 and test = 102\n",
    "# If we've a important column like 'CHAS' (in housing database), 'CHAS' have two type of value 0 and 1\n",
    "#  In 'CHAS' count of 0 is 441 and 1 is 35\n",
    "# Now, if we split in general way and if the 'CHAS's all 0 value (which occur 471 time), go to in the train set (which size is 404),\n",
    "# then the model will train only for 'CHAS' 0 value, it'll not recognize when we'll test the model with 'CHAS' data as 1\n",
    "# Because, all 'CHAS' 1's data (which occur 35 time) is only in the test set and the model will give worng output\n",
    "\n",
    "# Now, if we use StratifiedShuffleSplit, then the StratifiedShuffleSplit will make sure that, \n",
    "# the important colum's (like 'CHAS' in housing data) all diffrent value will appear in test set as well as train set also\n",
    "# And then, if we test the model with 'CHAS' 0 or 1 data, it'll recognize the value and give us some accurate output\n",
    "\n",
    "from sklearn.model_selection import StratifiedShuffleSplit\n",
    "split = StratifiedShuffleSplit(n_splits=1, test_size=0.2, random_state=42)\n",
    "for train_index, test_index in split.split(housing_data, housing_data['CHAS']):\n",
    "    start_train_set = housing_data.loc[train_index]\n",
    "    start_test_set = housing_data.loc[test_index]\n",
    "\n",
    "# Now,if we print test and train data's 'CHAS' value_counts()\n",
    "# then we'll see, test data and and train data conrain both 0 and 1 value with same ratio\n",
    "print(f\"TRAIN 'CHAS' value :\\n{start_train_set['CHAS'].value_counts()} \\nTRAIN 'CHAS' ratio (376/28) : {376/28}\\n\")\n",
    "print(f\"TEST 'CHAS' value :\\n{start_train_set['CHAS'].value_counts()} \\nTEST 'CHAS' ratio (95/7) : {95/7}\")\n",
    "\n",
    "\n",
    "housing_data = start_train_set.copy()"
   ]
  },
  {
   "attachments": {},
   "cell_type": "markdown",
   "metadata": {},
   "source": [
    "### 3. <u>LOOKING FOR CO-RELATION</u>"
   ]
  },
  {
   "cell_type": "code",
   "execution_count": 775,
   "metadata": {},
   "outputs": [
    {
     "data": {
      "text/plain": [
       "MEDV       1.000000\n",
       "RM         0.673586\n",
       "B          0.361761\n",
       "ZN         0.339741\n",
       "DIS        0.240451\n",
       "CHAS       0.205066\n",
       "AGE       -0.364596\n",
       "RAD       -0.374693\n",
       "CRIM      -0.393715\n",
       "NOX       -0.422873\n",
       "TAX       -0.456657\n",
       "INDUS     -0.473516\n",
       "PTRATIO   -0.493534\n",
       "LSTAT     -0.740494\n",
       "Name: MEDV, dtype: float64"
      ]
     },
     "execution_count": 775,
     "metadata": {},
     "output_type": "execute_result"
    }
   ],
   "source": [
    "# Co-relation lies between 0 to 1 \n",
    "# Here, 1 = Strong positive co-relation and \n",
    "# 0 = Strong negetive co-relation\n",
    "corr_matrix = housing_data.corr()\n",
    "\n",
    "# Here, we can see the relation between 'MEDV' and other column\n",
    "# if the value of RM, ZN, B, DIS, CHAS will increase then the value of the 'MEDV' will also increase [ex. if RM (number of room in house) will increase then 'MEDV'(the price of house) will increase]\n",
    "# Again, if the value of AGE, RAD, CRIM, NOX, TAX etc will increase then the value of the 'MEDV' will decrease [ex. if CRIM (number of crime in area) will increase then 'MEDV'(the price of house) will decrease]\n",
    "\n",
    "corr_matrix['MEDV'].sort_values(ascending=False)"
   ]
  },
  {
   "cell_type": "code",
   "execution_count": 776,
   "metadata": {},
   "outputs": [],
   "source": [
    "# pandas plotting \n",
    "from pandas.plotting import scatter_matrix\n",
    "attribute = ['MEDV', 'RM', 'ZN', 'LSTAT']\n",
    "# scatter_matrix(housing_data[attribute],figsize=(12,8))"
   ]
  },
  {
   "cell_type": "code",
   "execution_count": 777,
   "metadata": {},
   "outputs": [
    {
     "data": {
      "text/plain": [
       "<AxesSubplot: xlabel='RM', ylabel='MEDV'>"
      ]
     },
     "execution_count": 777,
     "metadata": {},
     "output_type": "execute_result"
    },
    {
     "data": {
      "image/png": "[encoded data removed]",
      "text/plain": [
       "<Figure size 640x480 with 1 Axes>"
      ]
     },
     "metadata": {},
     "output_type": "display_data"
    }
   ],
   "source": [
    "housing_data.plot(kind='scatter', x='RM', y='MEDV', alpha=0.8)"
   ]
  },
  {
   "cell_type": "code",
   "execution_count": 778,
   "metadata": {},
   "outputs": [],
   "source": [
    "housing_data = start_train_set.drop(\"MEDV\", axis=1)\n",
    "housing_data_labels = start_train_set[\"MEDV\"].copy()"
   ]
  },
  {
   "attachments": {},
   "cell_type": "markdown",
   "metadata": {},
   "source": [
    "### 4. <u>ATTRIBUTES COMBINATIONS</u>"
   ]
  },
  {
   "cell_type": "code",
   "execution_count": 779,
   "metadata": {},
   "outputs": [],
   "source": [
    "# adding a new column in dataset\n",
    "# housing_data['TAXRM'] = housing_data['TAX']/housing_data['RM']\n",
    "# housing_data.head()"
   ]
  },
  {
   "cell_type": "code",
   "execution_count": 780,
   "metadata": {},
   "outputs": [
    {
     "data": {
      "text/plain": [
       "CRIM       1.000000\n",
       "RAD        0.648221\n",
       "TAX        0.603934\n",
       "LSTAT      0.471442\n",
       "NOX        0.430879\n",
       "INDUS      0.416640\n",
       "AGE        0.361890\n",
       "PTRATIO    0.305603\n",
       "CHAS      -0.061482\n",
       "ZN        -0.212927\n",
       "RM        -0.257858\n",
       "DIS       -0.386900\n",
       "B         -0.486869\n",
       "Name: CRIM, dtype: float64"
      ]
     },
     "execution_count": 780,
     "metadata": {},
     "output_type": "execute_result"
    }
   ],
   "source": [
    "corr_matrix = housing_data.corr()\n",
    "corr_matrix['CRIM'].sort_values(ascending=False)"
   ]
  },
  {
   "attachments": {},
   "cell_type": "markdown",
   "metadata": {},
   "source": [
    "### 4. <u>MISSING ATTRIBUTES</u>\n",
    "\n",
    "***TO GET RID OF MISSING ATRIBUTE:***\n",
    "- _Get rid of missing data points_\n",
    "- _Get rid of the whole attribute_\n",
    "- _Set the value to some other value (0/mean/median)_"
   ]
  },
  {
   "cell_type": "code",
   "execution_count": 781,
   "metadata": {},
   "outputs": [
    {
     "data": {
      "text/plain": [
       "(400, 13)"
      ]
     },
     "execution_count": 781,
     "metadata": {},
     "output_type": "execute_result"
    }
   ],
   "source": [
    "# Option 1\n",
    "# The original dataset will reamin unchanged\n",
    "# delete whole row which contain null value in RM column\n",
    "housing_data.dropna(subset=\"RM\").shape"
   ]
  },
  {
   "cell_type": "code",
   "execution_count": 782,
   "metadata": {},
   "outputs": [
    {
     "data": {
      "text/plain": [
       "(404, 12)"
      ]
     },
     "execution_count": 782,
     "metadata": {},
     "output_type": "execute_result"
    }
   ],
   "source": [
    "# Option 2\n",
    "# The original dataset will reamin unchanged\n",
    "# delete whole RM column\n",
    "housing_data.drop(\"RM\", axis=1).shape"
   ]
  },
  {
   "cell_type": "code",
   "execution_count": 783,
   "metadata": {},
   "outputs": [
    {
     "data": {
      "text/plain": [
       "(404, 13)"
      ]
     },
     "execution_count": 783,
     "metadata": {},
     "output_type": "execute_result"
    }
   ],
   "source": [
    "# Option 3\n",
    "# The original dataset will reamin unchanged\n",
    "# Calculate median of RM column\n",
    "median = housing_data['RM'].median()\n",
    "# fillna fill with median value where it finds null\n",
    "housing_data[\"RM\"].fillna(median)\n",
    "housing_data.shape"
   ]
  },
  {
   "cell_type": "code",
   "execution_count": 784,
   "metadata": {},
   "outputs": [
    {
     "data": {
      "text/plain": [
       "array([2.86735e-01, 0.00000e+00, 9.90000e+00, 0.00000e+00, 5.38000e-01,\n",
       "       6.21350e+00, 7.82000e+01, 3.12220e+00, 5.00000e+00, 3.37000e+02,\n",
       "       1.90000e+01, 3.90955e+02, 1.15700e+01])"
      ]
     },
     "execution_count": 784,
     "metadata": {},
     "output_type": "execute_result"
    }
   ],
   "source": [
    "# Option 3 with sklearn with more efficient way\n",
    "# Efficient way means, in above we, calculate meidan only for RM\n",
    "# But we've to calculate medians for all column, because any column can have null values\n",
    "\n",
    "from sklearn.impute import SimpleImputer\n",
    "\n",
    "imputer = SimpleImputer(strategy=\"median\")\n",
    "imputer.fit(housing_data)\n",
    "imputer.statistics_\n"
   ]
  },
  {
   "cell_type": "code",
   "execution_count": 785,
   "metadata": {},
   "outputs": [
    {
     "data": {
      "text/html": [
       "<div>\n",
       "<style scoped>\n",
       "    .dataframe tbody tr th:only-of-type {\n",
       "        vertical-align: middle;\n",
       "    }\n",
       "\n",
       "    .dataframe tbody tr th {\n",
       "        vertical-align: top;\n",
       "    }\n",
       "\n",
       "    .dataframe thead th {\n",
       "        text-align: right;\n",
       "    }\n",
       "</style>\n",
       "<table border=\"1\" class=\"dataframe\">\n",
       "  <thead>\n",
       "    <tr style=\"text-align: right;\">\n",
       "      <th></th>\n",
       "      <th>CRIM</th>\n",
       "      <th>ZN</th>\n",
       "      <th>INDUS</th>\n",
       "      <th>CHAS</th>\n",
       "      <th>NOX</th>\n",
       "      <th>RM</th>\n",
       "      <th>AGE</th>\n",
       "      <th>DIS</th>\n",
       "      <th>RAD</th>\n",
       "      <th>TAX</th>\n",
       "      <th>PTRATIO</th>\n",
       "      <th>B</th>\n",
       "      <th>LSTAT</th>\n",
       "    </tr>\n",
       "  </thead>\n",
       "  <tbody>\n",
       "    <tr>\n",
       "      <th>0</th>\n",
       "      <td>0.04819</td>\n",
       "      <td>80.0</td>\n",
       "      <td>3.64</td>\n",
       "      <td>0.0</td>\n",
       "      <td>0.392</td>\n",
       "      <td>6.108</td>\n",
       "      <td>32.0</td>\n",
       "      <td>9.2203</td>\n",
       "      <td>1.0</td>\n",
       "      <td>315.0</td>\n",
       "      <td>16.4</td>\n",
       "      <td>392.89</td>\n",
       "      <td>6.57</td>\n",
       "    </tr>\n",
       "    <tr>\n",
       "      <th>1</th>\n",
       "      <td>0.01501</td>\n",
       "      <td>80.0</td>\n",
       "      <td>2.01</td>\n",
       "      <td>0.0</td>\n",
       "      <td>0.435</td>\n",
       "      <td>6.635</td>\n",
       "      <td>29.7</td>\n",
       "      <td>8.3440</td>\n",
       "      <td>4.0</td>\n",
       "      <td>280.0</td>\n",
       "      <td>17.0</td>\n",
       "      <td>390.94</td>\n",
       "      <td>5.99</td>\n",
       "    </tr>\n",
       "    <tr>\n",
       "      <th>2</th>\n",
       "      <td>4.87141</td>\n",
       "      <td>0.0</td>\n",
       "      <td>18.10</td>\n",
       "      <td>0.0</td>\n",
       "      <td>0.614</td>\n",
       "      <td>6.484</td>\n",
       "      <td>93.6</td>\n",
       "      <td>2.3053</td>\n",
       "      <td>24.0</td>\n",
       "      <td>666.0</td>\n",
       "      <td>20.2</td>\n",
       "      <td>396.21</td>\n",
       "      <td>18.68</td>\n",
       "    </tr>\n",
       "    <tr>\n",
       "      <th>3</th>\n",
       "      <td>0.18159</td>\n",
       "      <td>0.0</td>\n",
       "      <td>7.38</td>\n",
       "      <td>0.0</td>\n",
       "      <td>0.493</td>\n",
       "      <td>6.376</td>\n",
       "      <td>54.3</td>\n",
       "      <td>4.5404</td>\n",
       "      <td>5.0</td>\n",
       "      <td>287.0</td>\n",
       "      <td>19.6</td>\n",
       "      <td>396.90</td>\n",
       "      <td>6.87</td>\n",
       "    </tr>\n",
       "    <tr>\n",
       "      <th>4</th>\n",
       "      <td>0.30347</td>\n",
       "      <td>0.0</td>\n",
       "      <td>7.38</td>\n",
       "      <td>0.0</td>\n",
       "      <td>0.493</td>\n",
       "      <td>6.312</td>\n",
       "      <td>28.9</td>\n",
       "      <td>5.4159</td>\n",
       "      <td>5.0</td>\n",
       "      <td>287.0</td>\n",
       "      <td>19.6</td>\n",
       "      <td>396.90</td>\n",
       "      <td>6.15</td>\n",
       "    </tr>\n",
       "  </tbody>\n",
       "</table>\n",
       "</div>"
      ],
      "text/plain": [
       "      CRIM    ZN  INDUS  CHAS    NOX     RM   AGE     DIS   RAD    TAX  \\\n",
       "0  0.04819  80.0   3.64   0.0  0.392  6.108  32.0  9.2203   1.0  315.0   \n",
       "1  0.01501  80.0   2.01   0.0  0.435  6.635  29.7  8.3440   4.0  280.0   \n",
       "2  4.87141   0.0  18.10   0.0  0.614  6.484  93.6  2.3053  24.0  666.0   \n",
       "3  0.18159   0.0   7.38   0.0  0.493  6.376  54.3  4.5404   5.0  287.0   \n",
       "4  0.30347   0.0   7.38   0.0  0.493  6.312  28.9  5.4159   5.0  287.0   \n",
       "\n",
       "   PTRATIO       B  LSTAT  \n",
       "0     16.4  392.89   6.57  \n",
       "1     17.0  390.94   5.99  \n",
       "2     20.2  396.21  18.68  \n",
       "3     19.6  396.90   6.87  \n",
       "4     19.6  396.90   6.15  "
      ]
     },
     "execution_count": 785,
     "metadata": {},
     "output_type": "execute_result"
    }
   ],
   "source": [
    "x = imputer.transform(housing_data)\n",
    "housing_data_tr = pd.DataFrame(x, columns=housing_data.columns)\n",
    "housing_data_tr.head()"
   ]
  },
  {
   "attachments": {},
   "cell_type": "markdown",
   "metadata": {},
   "source": [
    "### 5. <u>Sci-kit Learn Design</u>\n",
    "***Three types of objects:***\n",
    "- _Estimators : It estimate some parameters based on dataset. ex. imputer. It has a fit method and transform method_\n",
    "    - _Fit Method : Fit the dataset and calculate parameters_\n",
    "<br>\n",
    "<br>\n",
    "- _Transformers : It takes input and returtn output based on the learnings from fit. It also has a convinience function called fit_transform() which fits and then transform_\n",
    "<br>\n",
    "<br>\n",
    "- _Predictors : LinearRegression model is an example of predictors. fit() and predict() are two common function. It also gives score function which evaluate the prediction_"
   ]
  },
  {
   "attachments": {},
   "cell_type": "markdown",
   "metadata": {},
   "source": [
    "### 6. <u>Feature Scaling</u>\n",
    "\n",
    "***Two types of feature scaling method:***\n",
    "- _Min-Max Scaling (Normalization) : (value - min) / (max - min), Sklearn provide a class called MinMaxScaler_\n",
    "<br>\n",
    "<br>\n",
    "- _Standardization : (value - mean) / std, Sklearn provide a class called StandardScaler_"
   ]
  },
  {
   "attachments": {},
   "cell_type": "markdown",
   "metadata": {},
   "source": [
    "### 7. <u>Creating Pipeline</u>"
   ]
  },
  {
   "cell_type": "code",
   "execution_count": 786,
   "metadata": {},
   "outputs": [
    {
     "data": {
      "text/plain": [
       "(404, 13)"
      ]
     },
     "execution_count": 786,
     "metadata": {},
     "output_type": "execute_result"
    }
   ],
   "source": [
    "from sklearn.pipeline import Pipeline\n",
    "from sklearn.preprocessing import StandardScaler\n",
    "my_pipeline = Pipeline([\n",
    "    (\"imputer\", SimpleImputer(strategy=\"median\")),\n",
    "    # ... add as many as you want in your pipeline\n",
    "    (\"std_scaler\", StandardScaler()),\n",
    "])\n",
    "housing_data_num_tr = my_pipeline.fit_transform(housing_data)\n",
    "housing_data_num_tr.shape"
   ]
  },
  {
   "attachments": {},
   "cell_type": "markdown",
   "metadata": {},
   "source": [
    "### 8. <u>Selecting a desired model</u>"
   ]
  },
  {
   "cell_type": "code",
   "execution_count": 787,
   "metadata": {},
   "outputs": [
    {
     "name": "stdout",
     "output_type": "stream",
     "text": [
      "[21.9, 24.5, 16.7, 23.1, 23.0]\n",
      "[22.552 25.388 16.401 23.351 23.296]\n"
     ]
    }
   ],
   "source": [
    "from sklearn.linear_model import LinearRegression\n",
    "from sklearn.tree import DecisionTreeRegressor\n",
    "from sklearn.ensemble import RandomForestRegressor\n",
    "# model = LinearRegression()\n",
    "# model = DecisionTreeRegressor()\n",
    "model = RandomForestRegressor()\n",
    "model.fit(housing_data_num_tr, housing_data_labels)\n",
    "some_data = housing_data.iloc[:5]\n",
    "some_labels = housing_data_labels.iloc[:5]\n",
    "prepared_data = my_pipeline.transform(some_data)\n",
    "predicted_value = model.predict(prepared_data)\n",
    "\n",
    "print(list(some_labels))\n",
    "print(predicted_value)"
   ]
  },
  {
   "cell_type": "code",
   "execution_count": 788,
   "metadata": {},
   "outputs": [
    {
     "name": "stdout",
     "output_type": "stream",
     "text": [
      "Error : 1.1964079695918823\n"
     ]
    }
   ],
   "source": [
    "from sklearn.metrics import mean_squared_error\n",
    "housing_predictions = model.predict(housing_data_num_tr)\n",
    "mse = mean_squared_error(housing_data_labels, housing_predictions)\n",
    "mse = np.sqrt(mse)\n",
    "print(f\"Error : {mse}\")"
   ]
  },
  {
   "attachments": {},
   "cell_type": "markdown",
   "metadata": {},
   "source": [
    "### 8. <u>Cross validation (using better evaluation technique)</u>"
   ]
  },
  {
   "cell_type": "code",
   "execution_count": 789,
   "metadata": {},
   "outputs": [],
   "source": [
    "from sklearn.model_selection import cross_val_score\n",
    "score = cross_val_score(model, housing_data_num_tr, housing_data_labels, scoring=\"neg_mean_squared_error\", cv=10)\n",
    "rmse_score = np.sqrt(-score)"
   ]
  },
  {
   "cell_type": "code",
   "execution_count": 790,
   "metadata": {},
   "outputs": [
    {
     "name": "stdout",
     "output_type": "stream",
     "text": [
      "Scores:[2.90198178 2.68973057 4.62383102 2.50227976 3.0845873  2.70801925\n",
      " 6.08312519 3.4111887  2.99715284 3.37784875]\n",
      "Mean:3.4379745160309705\n",
      "Standard Deviation:1.0479567354512833\n"
     ]
    }
   ],
   "source": [
    "def printScores(scores):\n",
    "    print(f\"Scores:{scores}\\nMean:{scores.mean()}\\nStandard Deviation:{scores.std()}\")\n",
    "\n",
    "printScores(rmse_score)"
   ]
  },
  {
   "attachments": {},
   "cell_type": "markdown",
   "metadata": {},
   "source": [
    "# OUTPUTS\n",
    "\n",
    "| Model Name \t| Outputs \t|\n",
    "|---\t|---\t|\n",
    "| LinearRegression       | Mean : 4.37801551473031<br>Standard Deviation : 1.281584814375142 |\n",
    "| DecisionTreeRegressor  | Mean : 4.495726397074142<br>Standard Deviation : 0.9062161437737262 |\n",
    "| RandomForestRegressior | Mean : 3.4471855817821457<br>Standard Deviation : 1.0154749998710177 |"
   ]
  },
  {
   "attachments": {},
   "cell_type": "markdown",
   "metadata": {},
   "source": [
    "### Convert this notebook into a python file and run the pipeline using VS Code"
   ]
  },
  {
   "attachments": {},
   "cell_type": "markdown",
   "metadata": {},
   "source": [
    "### Saving the model"
   ]
  },
  {
   "cell_type": "code",
   "execution_count": 791,
   "metadata": {},
   "outputs": [
    {
     "data": {
      "text/plain": [
       "['Housing.joblib']"
      ]
     },
     "execution_count": 791,
     "metadata": {},
     "output_type": "execute_result"
    }
   ],
   "source": [
    "from joblib import dump, load\n",
    "dump(model, \"Housing.joblib\")"
   ]
  },
  {
   "attachments": {},
   "cell_type": "markdown",
   "metadata": {},
   "source": [
    "### Testing the model"
   ]
  },
  {
   "cell_type": "code",
   "execution_count": 793,
   "metadata": {},
   "outputs": [
    {
     "name": "stdout",
     "output_type": "stream",
     "text": [
      "Scores:3.142475833279406\n",
      "Mean:3.142475833279406\n",
      "Standard Deviation:0.0\n"
     ]
    }
   ],
   "source": [
    "x_test = start_test_set.drop(\"MEDV\", axis=1)\n",
    "y_test = start_test_set[\"MEDV\"].copy()\n",
    "\n",
    "x_test_prepared = my_pipeline.transform(x_test)\n",
    "final_predictions = model.predict(x_test_prepared)\n",
    "final_mse = mean_squared_error(y_test, final_predictions)\n",
    "final_rmse = np.sqrt(final_mse)\n",
    "printScores(final_rmse)"
   ]
  },
  {
   "attachments": {},
   "cell_type": "markdown",
   "metadata": {},
   "source": [
    "### Model Usage"
   ]
  },
  {
   "cell_type": "code",
   "execution_count": 796,
   "metadata": {},
   "outputs": [
    {
     "name": "stdout",
     "output_type": "stream",
     "text": [
      "Output = [21.055]\n"
     ]
    }
   ],
   "source": [
    "features = np.array([[-0.43942006,  3.12628155, -1.12165014, -0.27288841, -1.42262747, -0.74008849, -1.31238772,  2.61111401, -1.0016859 , -0.5778192 ,\n",
    "       -0.97491834,  0.41164221, -0.86091034]])\n",
    "\n",
    "print(f\"Output = {model.predict(features)}\")"
   ]
  }
 ],
 "metadata": {
  "kernelspec": {
   "display_name": "Python 3",
   "language": "python",
   "name": "python3"
  },
  "language_info": {
   "codemirror_mode": {
    "name": "ipython",
    "version": 3
   },
   "file_extension": ".py",
   "mimetype": "text/x-python",
   "name": "python",
   "nbconvert_exporter": "python",
   "pygments_lexer": "ipython3",
   "version": "3.11.0 (main, Oct 24 2022, 18:26:48) [MSC v.1933 64 bit (AMD64)]"
  },
  "orig_nbformat": 4,
  "vscode": {
   "interpreter": {
    "hash": "5238573367df39f7286bb46f9ff5f08f63a01a80960060ce41e3c79b190280fa"
   }
  }
 },
 "nbformat": 4,
 "nbformat_minor": 2
}
